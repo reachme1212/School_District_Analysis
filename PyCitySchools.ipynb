{
 "cells": [
  {
   "cell_type": "code",
   "execution_count": null,
   "id": "c38f53ef",
   "metadata": {},
   "outputs": [],
   "source": [
    "#import csv\n",
    "import pandas as pd \n",
    "import os \n",
    "school_data=os.path.join(\"resources\",\"schools_complete.csv\") \n",
    "student_data=os.path.join(\"C:\\Users\\Sangeetha\\Documents\\GitHub\\School_District_Analysis\\resources\\students_complete.csv\")\n"
   ]
  },
  {
   "cell_type": "code",
   "execution_count": 5,
   "id": "fd6389c0",
   "metadata": {},
   "outputs": [
    {
     "name": "stdout",
     "output_type": "stream",
     "text": [
      "    School ID            school_name      type  size         budget\n",
      "0           0      Huang High School  District  2917  $1,910,635.00\n",
      "1           1   Figueroa High School  District  2949  $1,884,411.00\n",
      "2           2    Shelton High School   Charter  1761  $1,056,600.00\n",
      "3           3  Hernandez High School  District  4635  $3,022,020.00\n",
      "4           4    Griffin High School   Charter  1468    $917,500.00\n",
      "5           5     Wilson High School   Charter  2283  $1,319,574.00\n",
      "6           6    Cabrera High School   Charter  1858  $1,081,356.00\n",
      "7           7     Bailey High School  District  4976  $3,124,928.00\n",
      "8           8     Holden High School   Charter   427    $248,087.00\n",
      "9           9       Pena High School   Charter   962    $585,858.00\n",
      "10         10     Wright High School   Charter  1800  $1,049,400.00\n",
      "11         11  Rodriguez High School  District  3999  $2,547,363.00\n",
      "12         12    Johnson High School  District  4761  $3,094,650.00\n",
      "13         13       Ford High School  District  2739  $1,763,916.00\n",
      "14         14     Thomas High School   Charter  1635  $1,043,130.00\n"
     ]
    }
   ],
   "source": [
    "import pandas as pd \n",
    "import os \n",
    "school_data=os.path.join(\"resources\",\"schools_complete.csv\") \n",
    "student_data=os.path.join(\"resources\",\"students_complete.csv\")\n",
    "school_data_df=pd.read_csv(school_data)\n",
    "print(school_data_df)"
   ]
  },
  {
   "cell_type": "code",
   "execution_count": 8,
   "id": "adc838a0",
   "metadata": {},
   "outputs": [
    {
     "name": "stdout",
     "output_type": "stream",
     "text": [
      "       Student ID     student_name gender grade         school_name  \\\n",
      "0               0     Paul Bradley      M   9th   Huang High School   \n",
      "1               1     Victor Smith      M  12th   Huang High School   \n",
      "2               2  Kevin Rodriguez      M  12th   Huang High School   \n",
      "3               3    Richard Scott      M  12th   Huang High School   \n",
      "4               4       Bonnie Ray      F   9th   Huang High School   \n",
      "...           ...              ...    ...   ...                 ...   \n",
      "39165       39165     Donna Howard      F  12th  Thomas High School   \n",
      "39166       39166        Dawn Bell      F  10th  Thomas High School   \n",
      "39167       39167   Rebecca Tanner      F   9th  Thomas High School   \n",
      "39168       39168     Desiree Kidd      F  10th  Thomas High School   \n",
      "39169       39169  Carolyn Jackson      F  11th  Thomas High School   \n",
      "\n",
      "       reading_score  math_score  \n",
      "0                 66          79  \n",
      "1                 94          61  \n",
      "2                 90          60  \n",
      "3                 67          58  \n",
      "4                 97          84  \n",
      "...              ...         ...  \n",
      "39165             99          90  \n",
      "39166             95          70  \n",
      "39167             73          84  \n",
      "39168             99          90  \n",
      "39169             95          75  \n",
      "\n",
      "[39170 rows x 7 columns]\n"
     ]
    }
   ],
   "source": [
    "import pandas as pd \n",
    "import os \n",
    "school_data= os.path.join(\"resources\",\"schools_complete.csv\") \n",
    "student_data= os.path.join(\"resources\",\"students_complete.csv\")\n",
    "student_data_df= pd.read_csv(student_data)\n",
    "print(student_data_df)"
   ]
  },
  {
   "cell_type": "code",
   "execution_count": null,
   "id": "ce791903",
   "metadata": {},
   "outputs": [],
   "source": []
  }
 ],
 "metadata": {
  "kernelspec": {
   "display_name": "PythonData",
   "language": "python",
   "name": "pythondata"
  },
  "language_info": {
   "codemirror_mode": {
    "name": "ipython",
    "version": 3
   },
   "file_extension": ".py",
   "mimetype": "text/x-python",
   "name": "python",
   "nbconvert_exporter": "python",
   "pygments_lexer": "ipython3",
   "version": "3.8.8"
  }
 },
 "nbformat": 4,
 "nbformat_minor": 5
}
