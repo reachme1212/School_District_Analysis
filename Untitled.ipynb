{
 "cells": [
  {
   "cell_type": "code",
   "execution_count": 35,
   "id": "969f6b08",
   "metadata": {},
   "outputs": [],
   "source": [
    "#construct a class space : and indentation is crucial in python\n",
    "#is the self refering to dog input ? this is like value_count() we are creataing a dog() using the below code \n",
    "# name,color, breed are called objects of class dog can be called using .name .color .breed after a variable\n",
    "class dog:\n",
    "    def __init__(self, name, color, sound,):\n",
    "        self.name= name\n",
    "        self.color=color\n",
    "        self.sound=sound\n",
    "    def bark(self):\n",
    "        return self.sound+ \" \" +self.sound"
   ]
  },
  {
   "cell_type": "code",
   "execution_count": 42,
   "id": "4f0623ca",
   "metadata": {},
   "outputs": [
    {
     "data": {
      "text/plain": [
       "'woof woof'"
      ]
     },
     "execution_count": 42,
     "metadata": {},
     "output_type": "execute_result"
    }
   ],
   "source": [
    "#store dog() to a variable so then we can use .name Object-oriented programming (OOP)\n",
    "# this way help when you work with large data  \n",
    "dog_1 = dog('spuanchi','white','woof')\n",
    "dog_1.bark()\n"
   ]
  },
  {
   "cell_type": "code",
   "execution_count": 43,
   "id": "86bcdfc9",
   "metadata": {},
   "outputs": [
    {
     "data": {
      "text/plain": [
       "'aarf aarf'"
      ]
     },
     "execution_count": 43,
     "metadata": {},
     "output_type": "execute_result"
    }
   ],
   "source": [
    "dog_2= dog('lady','blonde','aarf')\n",
    "dog_2.bark()\n"
   ]
  },
  {
   "cell_type": "code",
   "execution_count": 44,
   "id": "886a56e5",
   "metadata": {},
   "outputs": [
    {
     "name": "stdout",
     "output_type": "stream",
     "text": [
      "garfield\n"
     ]
    }
   ],
   "source": [
    "cat1= cat('garfield')\n",
    "print(cat1.name)"
   ]
  },
  {
   "cell_type": "code",
   "execution_count": null,
   "id": "9ad459b4",
   "metadata": {},
   "outputs": [],
   "source": []
  }
 ],
 "metadata": {
  "kernelspec": {
   "display_name": "Python 3",
   "language": "python",
   "name": "python3"
  },
  "language_info": {
   "codemirror_mode": {
    "name": "ipython",
    "version": 3
   },
   "file_extension": ".py",
   "mimetype": "text/x-python",
   "name": "python",
   "nbconvert_exporter": "python",
   "pygments_lexer": "ipython3",
   "version": "3.7.10"
  }
 },
 "nbformat": 4,
 "nbformat_minor": 5
}
